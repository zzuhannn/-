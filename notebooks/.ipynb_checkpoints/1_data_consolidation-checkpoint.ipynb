{
 "cells": [
  {
   "cell_type": "code",
   "execution_count": null,
   "id": "f7369152-6d64-434e-9a7e-69fadbb1046b",
   "metadata": {},
   "outputs": [],
   "source": [
    "# 1. 필요한 라이브러리 불러오기\n",
    "import pandas as pd\n",
    "import glob  # 파일 경로를 쉽게 다룰 수 있게 해주는 라이브러리\n",
    "import os    # 운영체제와 상호작용하는 라이브러리\n",
    "\n",
    "# 2. 파일 경로 설정\n",
    "# 현재 작업 경로의 상위 폴더를 기준으로 경로를 설정합니다.\n",
    "base_path = '../data/raw/'\n",
    "welcome_path = os.path.join(base_path, 'Welcome/*.xlsx')\n",
    "quickpoll_path = os.path.join(base_path, 'Quickpoll/*.xlsx')\n",
    "\n",
    "# 3. 파일 목록 불러오기\n",
    "welcome_files = glob.glob(welcome_path)\n",
    "quickpoll_files = glob.glob(quickpoll_path)\n",
    "\n",
    "print(f\"Welcome 파일 개수: {len(welcome_files)}개\")\n",
    "print(f\"Quickpoll 파일 개수: {len(quickpoll_files)}개\")\n",
    "\n",
    "# 4. Welcome 파일 2개를 먼저 합쳐서 기본 DataFrame 생성\n",
    "# 첫 번째 파일을 기준으로, panel_id가 없다면 에러를 발생시킵니다.\n",
    "base_df = pd.read_excel(welcome_files[0])\n",
    "if 'panel_id' not in base_df.columns:\n",
    "    raise ValueError(\"첫 번째 Welcome 파일에 'panel_id' 컬럼이 없습니다.\")\n",
    "\n",
    "for file in welcome_files[1:]:\n",
    "    print(f\"병합 중: {os.path.basename(file)}\")\n",
    "    temp_df = pd.read_excel(file)\n",
    "    base_df = pd.merge(base_df, temp_df, on='panel_id', how='left')\n",
    "\n",
    "# 5. Quickpoll 파일 35개를 반복하면서 기본 DataFrame에 계속 합치기\n",
    "for file in quickpoll_files:\n",
    "    print(f\"병합 중: {os.path.basename(file)}\")\n",
    "    temp_df = pd.read_excel(file)\n",
    "    # Quickpoll 파일에 panel_id가 없다면 건너뜁니다.\n",
    "    if 'panel_id' in temp_df.columns:\n",
    "        base_df = pd.merge(base_df, temp_df, on='panel_id', how='left')\n",
    "    else:\n",
    "        print(f\"  [경고] {os.path.basename(file)}에 'panel_id' 컬럼이 없어 병합을 건너뜁니다.\")\n",
    "\n",
    "\n",
    "# --- 최종 결과 확인 ---\n",
    "print(\"\\n🎉 데이터 통합 완료!\")\n",
    "print(\"--- 통합 데이터 정보 ---\")\n",
    "base_df.info()\n",
    "\n",
    "print(\"\\n--- 통합 데이터 크기 ---\")\n",
    "print(f\"최종 데이터 크기: {base_df.shape[0]}개의 행, {base_df.shape[1]}개의 열\")\n",
    "\n",
    "print(\"\\n--- 통합 데이터 미리보기 ---\")\n",
    "display(base_df.head())"
   ]
  }
 ],
 "metadata": {
  "kernelspec": {
   "display_name": "Python 3 (ipykernel)",
   "language": "python",
   "name": "python3"
  },
  "language_info": {
   "codemirror_mode": {
    "name": "ipython",
    "version": 3
   },
   "file_extension": ".py",
   "mimetype": "text/x-python",
   "name": "python",
   "nbconvert_exporter": "python",
   "pygments_lexer": "ipython3",
   "version": "3.11.13"
  }
 },
 "nbformat": 4,
 "nbformat_minor": 5
}
