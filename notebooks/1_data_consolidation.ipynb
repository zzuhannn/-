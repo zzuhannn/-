{
 "cells": [
  {
   "cell_type": "markdown",
   "id": "c63b0b49",
   "metadata": {},
   "source": [
    "\n",
    "# 데이터 통합 프로젝트\n",
    "\n",
    "이 노트북은 Welcome과 Quickpoll 데이터를 통합하는 프로세스를 담고 있습니다.\n",
    "\n",
    "## 프로젝트 개요\n",
    "- **목적**: Welcome 파일 2개와 Quickpoll 파일 35개를 mb_sn을 기준으로 통합\n",
    "- **데이터 소스**: `../data/raw/` 폴더의 Excel 파일들\n",
    "- **통합 기준**: `mb_sn` 컬럼을 사용한 Outer Join\n",
    "- **특징**: \n",
    "  - Welcome 파일: 첫 번째 행을 헤더로 사용 (header=0)\n",
    "  - Quickpoll 파일: 두 번째 행을 헤더로 사용 (header=1)\n",
    "  - '고유번호' 컬럼을 'mb_sn'으로 변경\n",
    "  - Outer Join으로 모든 데이터 보존\n",
    "  - 중복 컬럼 자동 정리"
   ]
  },
  {
   "cell_type": "markdown",
   "id": "d18d05b8",
   "metadata": {},
   "source": [
    "## 1. 필요한 라이브러리 불러오기\n",
    "\n",
    "데이터 처리에 필요한 라이브러리들을 import합니다."
   ]
  },
  {
   "cell_type": "code",
   "execution_count": 6,
   "id": "3a4f7780",
   "metadata": {},
   "outputs": [],
   "source": [
    "import pandas as pd\n",
    "import glob  # 파일 경로를 쉽게 다룰 수 있게 해주는 라이브러리\n",
    "import os    # 운영체제와 상호작용하는 라이브러리\n"
   ]
  },
  {
   "cell_type": "markdown",
   "id": "6c0d80df",
   "metadata": {},
   "source": [
    "## 2. 파일 경로 설정\n",
    "\n",
    "데이터 파일들이 위치한 경로를 설정합니다.\n"
   ]
  },
  {
   "cell_type": "code",
   "execution_count": null,
   "id": "92f58b49",
   "metadata": {},
   "outputs": [
    {
     "name": "stdout",
     "output_type": "stream",
     "text": [
      "Welcome 파일 경로: ../data/raw/Welcome/*.xlsx\n",
      "Quickpoll 파일 경로: ../data/raw/Quickpoll/*.xlsx\n"
     ]
    }
   ],
   "source": [
    "# 경로 설정 및 파일 목록 불러오기\n",
    "base_path = '../data/raw/'\n",
    "welcome_path = os.path.join(base_path, 'Welcome/*.xlsx')\n",
    "quickpoll_path = os.path.join(base_path, 'Quickpoll/*.xlsx')\n",
    "\n",
    "welcome_files = glob.glob(welcome_path)\n",
    "quickpoll_files = glob.glob(quickpoll_path)\n",
    "\n",
    "print(f\"Welcome 파일 경로: {welcome_path}\")\n",
    "print(f\"Quickpoll 파일 경로: {quickpoll_path}\")\n",
    "print(f\"Welcome 파일 개수: {len(welcome_files)}개\")\n",
    "print(f\"Quickpoll 파일 개수: {len(quickpoll_files)}개\")\n"
   ]
  },
  {
   "cell_type": "markdown",
   "id": "20a07b7c",
   "metadata": {},
   "source": [
    "## 3. 파일 목록 불러오기\n",
    "\n",
    "glob을 사용하여 각 폴더의 Excel 파일들을 찾습니다.\n"
   ]
  },
  {
   "cell_type": "code",
   "execution_count": null,
   "id": "831f1399",
   "metadata": {},
   "outputs": [
    {
     "name": "stdout",
     "output_type": "stream",
     "text": [
      "Welcome 파일 개수: 2개\n",
      "Quickpoll 파일 개수: 35개\n",
      "\n",
      "=== Welcome 파일 목록 ===\n",
      "1. Welcome_2nd.xlsx\n",
      "2. Welcome_1st.xlsx\n",
      "\n",
      "=== Quickpoll 파일 목록 ===\n",
      "1. qpoll_join_250106.xlsx\n",
      "2. qpoll_join_250604.xlsx\n",
      "3. qpoll_join_250716.xlsx\n",
      "4. qpoll_join_250624.xlsx\n",
      "5. qpoll_join_250326.xlsx\n",
      "6. qpoll_join_250310.xlsx\n",
      "7. qpoll_join_250605.xlsx\n",
      "8. qpoll_join_250107.xlsx\n",
      "9. qpoll_join_250116.xlsx\n",
      "10. qpoll_join_250317.xlsx\n",
      "11. qpoll_join_250710.xlsx\n",
      "12. qpoll_join_250707.xlsx\n",
      "13. qpoll_join_250204.xlsx\n",
      "14. qpoll_join_250619.xlsx\n",
      "15. qpoll_join_250224.xlsx\n",
      "16. qpoll_join_250623.xlsx\n",
      "17. qpoll_join_250620.xlsx\n",
      "18. qpoll_join_250616.xlsx\n",
      "19. qpoll_join_250704.xlsx\n",
      "20. qpoll_join_250206.xlsx\n",
      "21. qpoll_join_250617.xlsx\n",
      "22. qpoll_join_250226.xlsx\n",
      "23. qpoll_join_250123.xlsx\n",
      "24. qpoll_join_250709.xlsx\n",
      "25. qpoll_join_250610.xlsx\n",
      "26. qpoll_join_250702.xlsx\n",
      "27. qpoll_join_250714.xlsx\n",
      "28. qpoll_join_250221.xlsx\n",
      "29. qpoll_join_250626.xlsx\n",
      "30. qpoll_join_250723.xlsx\n",
      "31. qpoll_join_250627.xlsx\n",
      "32. qpoll_join_250328.xlsx\n",
      "33. qpoll_join_250703.xlsx\n",
      "34. qpoll_join_250611.xlsx\n",
      "35. qpoll_join_250304.xlsx\n"
     ]
    }
   ],
   "source": [
    "# 파일 목록 확인\n",
    "print(\"\\n=== Welcome 파일 목록 ===\")\n",
    "for i, file in enumerate(welcome_files, 1):\n",
    "    print(f\"{i}. {os.path.basename(file)}\")\n",
    "\n",
    "print(\"\\n=== Quickpoll 파일 목록 ===\")\n",
    "for i, file in enumerate(quickpoll_files, 1):\n",
    "    print(f\"{i}. {os.path.basename(file)}\")\n"
   ]
  },
  {
   "cell_type": "markdown",
   "id": "c72ddb02",
   "metadata": {},
   "source": [
    "## 4. Welcome 파일 통합\n",
    "\n",
    "Welcome 파일들을 먼저 통합하여 기본 DataFrame을 생성합니다.\n"
   ]
  },
  {
   "cell_type": "code",
   "execution_count": null,
   "id": "a40434ba",
   "metadata": {},
   "outputs": [
    {
     "name": "stdout",
     "output_type": "stream",
     "text": [
      "=== Welcome 파일 통합 시작 ===\n",
      "기본 파일 로드: Welcome_2nd.xlsx\n",
      "기본 데이터 크기: (28744, 22)\n",
      "기본 데이터 컬럼: ['mb_sn', 'Q1', 'Q2', 'Q3', 'Q4', 'Q5', 'Q5_1', 'Q6', 'Q7', 'Q8', 'Q9_1', 'Q9_2', 'Q10', 'Q11_1', 'Q11_2', 'Q12', 'Q12_1', 'Q12_1_ETC', 'Q12_2', 'Q12_2_ETC', 'Q13', 'Q13_ETC']\n",
      "병합 중: Welcome_1st.xlsx\n",
      "  - 임시 데이터 크기: (27221, 5)\n",
      "  - 통합 후 크기: (28782, 26)\n",
      "\n",
      "Welcome 파일 통합 완료! 최종 크기: (28782, 26)\n"
     ]
    }
   ],
   "source": [
    "# Welcome 파일 통합 (header=1 없이)\n",
    "# Welcome 파일은 깨끗하다고 가정하고 그대로 읽습니다.\n",
    "print(\"=== Welcome 파일 통합 시작 ===\")\n",
    "base_df = pd.read_excel(welcome_files[0])\n",
    "print(f\"기본 파일 로드: {os.path.basename(welcome_files[0])}\")\n",
    "print(f\"기본 데이터 크기: {base_df.shape}\")\n",
    "\n",
    "# '고유번호' 컬럼을 'mb_sn'으로 변경\n",
    "if '고유번호' in base_df.columns:\n",
    "    base_df.rename(columns={'고유번호': 'mb_sn'}, inplace=True)\n",
    "    print(\"'고유번호' 컬럼을 'mb_sn'으로 변경했습니다.\")\n",
    "\n",
    "# 나머지 Welcome 파일들 통합\n",
    "for file in welcome_files[1:]:\n",
    "    print(f\"병합 중: {os.path.basename(file)}\")\n",
    "    temp_df = pd.read_excel(file)\n",
    "    print(f\"  - 임시 데이터 크기: {temp_df.shape}\")\n",
    "    \n",
    "    # '고유번호' 컬럼을 'mb_sn'으로 변경\n",
    "    if '고유번호' in temp_df.columns:\n",
    "        temp_df.rename(columns={'고유번호': 'mb_sn'}, inplace=True)\n",
    "    \n",
    "    # Welcome 파일끼리는 outer merge로 모든 패널을 포함시킵니다.\n",
    "    base_df = pd.merge(base_df, temp_df, on='mb_sn', how='outer')\n",
    "    print(f\"  - 통합 후 크기: {base_df.shape}\")\n",
    "\n",
    "print(f\"--- Welcome 파일 통합 완료 (기준 데이터 크기: {base_df.shape}) ---\")\n"
   ]
  },
  {
   "cell_type": "markdown",
   "id": "dfe3f515",
   "metadata": {},
   "source": [
    "## 5. Quickpoll 파일 통합\n",
    "\n",
    "Quickpoll 파일들을 기본 DataFrame에 통합합니다.\n"
   ]
  },
  {
   "cell_type": "code",
   "execution_count": null,
   "id": "fdc42b50",
   "metadata": {},
   "outputs": [
    {
     "name": "stdout",
     "output_type": "stream",
     "text": [
      "=== Quickpoll 파일 통합 시작 ===\n",
      "[1/35] 병합 중: qpoll_join_250106.xlsx\n",
      "  - 임시 데이터 크기: (5118, 7)\n",
      "  - 읽어온 컬럼: ['구분', '고유번호', '성별', '나이', '지역', '설문일시', '문항1']\n"
     ]
    },
    {
     "ename": "KeyError",
     "evalue": "'mb_sn'",
     "output_type": "error",
     "traceback": [
      "\u001b[31m---------------------------------------------------------------------------\u001b[39m",
      "\u001b[31mKeyError\u001b[39m                                  Traceback (most recent call last)",
      "\u001b[32m/var/folders/f8/wk5zkh214kl794l209x9bmyr0000gn/T/ipykernel_6950/4249270772.py\u001b[39m in \u001b[36m?\u001b[39m\u001b[34m()\u001b[39m\n\u001b[32m     14\u001b[39m     \u001b[38;5;66;03m# Quickpoll 파일에 고유번호가 있는지 확인\u001b[39;00m\n\u001b[32m     15\u001b[39m     \u001b[38;5;28;01mif\u001b[39;00m \u001b[33m'고유번호'\u001b[39m \u001b[38;5;28;01min\u001b[39;00m temp_df.columns:\n\u001b[32m     16\u001b[39m         temp_df.rename(columns={\u001b[33m'고유번호'\u001b[39m: \u001b[33m'mb_sn'\u001b[39m}, inplace=\u001b[38;5;28;01mTrue\u001b[39;00m)\n\u001b[32m     17\u001b[39m     \u001b[38;5;28;01mif\u001b[39;00m \u001b[33m'mb_sn'\u001b[39m \u001b[38;5;28;01min\u001b[39;00m temp_df.columns:\n\u001b[32m---> \u001b[39m\u001b[32m18\u001b[39m         base_df = pd.merge(base_df, temp_df, on=\u001b[33m'mb_sn'\u001b[39m, how=\u001b[33m'left'\u001b[39m)\n\u001b[32m     19\u001b[39m         print(\u001b[33mf\"  - 통합 후 크기: {base_df.shape}\"\u001b[39m)\n\u001b[32m     20\u001b[39m         successful_merges += \u001b[32m1\u001b[39m\n\u001b[32m     21\u001b[39m     \u001b[38;5;28;01melse\u001b[39;00m:\n",
      "\u001b[32m/opt/anaconda3/envs/panel_search/lib/python3.11/site-packages/pandas/core/reshape/merge.py\u001b[39m in \u001b[36m?\u001b[39m\u001b[34m(left, right, how, on, left_on, right_on, left_index, right_index, sort, suffixes, copy, indicator, validate)\u001b[39m\n\u001b[32m    166\u001b[39m             validate=validate,\n\u001b[32m    167\u001b[39m             copy=copy,\n\u001b[32m    168\u001b[39m         )\n\u001b[32m    169\u001b[39m     \u001b[38;5;28;01melse\u001b[39;00m:\n\u001b[32m--> \u001b[39m\u001b[32m170\u001b[39m         op = _MergeOperation(\n\u001b[32m    171\u001b[39m             left_df,\n\u001b[32m    172\u001b[39m             right_df,\n\u001b[32m    173\u001b[39m             how=how,\n",
      "\u001b[32m/opt/anaconda3/envs/panel_search/lib/python3.11/site-packages/pandas/core/reshape/merge.py\u001b[39m in \u001b[36m?\u001b[39m\u001b[34m(self, left, right, how, on, left_on, right_on, left_index, right_index, sort, suffixes, indicator, validate)\u001b[39m\n\u001b[32m    790\u001b[39m             self.right_join_keys,\n\u001b[32m    791\u001b[39m             self.join_names,\n\u001b[32m    792\u001b[39m             left_drop,\n\u001b[32m    793\u001b[39m             right_drop,\n\u001b[32m--> \u001b[39m\u001b[32m794\u001b[39m         ) = self._get_merge_keys()\n\u001b[32m    795\u001b[39m \n\u001b[32m    796\u001b[39m         \u001b[38;5;28;01mif\u001b[39;00m left_drop:\n\u001b[32m    797\u001b[39m             self.left = self.left._drop_labels_or_levels(left_drop)\n",
      "\u001b[32m/opt/anaconda3/envs/panel_search/lib/python3.11/site-packages/pandas/core/reshape/merge.py\u001b[39m in \u001b[36m?\u001b[39m\u001b[34m(self)\u001b[39m\n\u001b[32m   1306\u001b[39m                     \u001b[38;5;28;01mif\u001b[39;00m lk \u001b[38;5;28;01mis\u001b[39;00m \u001b[38;5;28;01mnot\u001b[39;00m \u001b[38;5;28;01mNone\u001b[39;00m:\n\u001b[32m   1307\u001b[39m                         \u001b[38;5;66;03m# Then we're either Hashable or a wrong-length arraylike,\u001b[39;00m\n\u001b[32m   1308\u001b[39m                         \u001b[38;5;66;03m#  the latter of which will raise\u001b[39;00m\n\u001b[32m   1309\u001b[39m                         lk = cast(Hashable, lk)\n\u001b[32m-> \u001b[39m\u001b[32m1310\u001b[39m                         left_keys.append(left._get_label_or_level_values(lk))\n\u001b[32m   1311\u001b[39m                         join_names.append(lk)\n\u001b[32m   1312\u001b[39m                     \u001b[38;5;28;01melse\u001b[39;00m:\n\u001b[32m   1313\u001b[39m                         \u001b[38;5;66;03m# work-around for merge_asof(left_index=True)\u001b[39;00m\n",
      "\u001b[32m/opt/anaconda3/envs/panel_search/lib/python3.11/site-packages/pandas/core/generic.py\u001b[39m in \u001b[36m?\u001b[39m\u001b[34m(self, key, axis)\u001b[39m\n\u001b[32m   1907\u001b[39m             values = self.xs(key, axis=other_axes[\u001b[32m0\u001b[39m])._values\n\u001b[32m   1908\u001b[39m         \u001b[38;5;28;01melif\u001b[39;00m self._is_level_reference(key, axis=axis):\n\u001b[32m   1909\u001b[39m             values = self.axes[axis].get_level_values(key)._values\n\u001b[32m   1910\u001b[39m         \u001b[38;5;28;01melse\u001b[39;00m:\n\u001b[32m-> \u001b[39m\u001b[32m1911\u001b[39m             \u001b[38;5;28;01mraise\u001b[39;00m KeyError(key)\n\u001b[32m   1912\u001b[39m \n\u001b[32m   1913\u001b[39m         \u001b[38;5;66;03m# Check for duplicates\u001b[39;00m\n\u001b[32m   1914\u001b[39m         \u001b[38;5;28;01mif\u001b[39;00m values.ndim > \u001b[32m1\u001b[39m:\n",
      "\u001b[31mKeyError\u001b[39m: 'mb_sn'"
     ]
    }
   ],
   "source": [
    "# Quickpoll 파일 통합 (how='outer' 사용)\n",
    "print(\"=== Quickpoll 파일 통합 시작 ===\")\n",
    "successful_merges = 0\n",
    "skipped_files = 0\n",
    "\n",
    "for i, file in enumerate(quickpoll_files, 1):\n",
    "    print(f\"[{i}/{len(quickpoll_files)}] 병합 중: {os.path.basename(file)}\")\n",
    "    # Quickpoll 파일은 두 번째 줄을 헤더로 읽습니다.\n",
    "    temp_df = pd.read_excel(file, header=1)\n",
    "    print(f\"  - 임시 데이터 크기: {temp_df.shape}\")\n",
    "    \n",
    "    # '고유번호' 컬럼을 'mb_sn'으로 변경\n",
    "    if '고유번호' in temp_df.columns:\n",
    "        temp_df.rename(columns={'고유번호': 'mb_sn'}, inplace=True)\n",
    "    \n",
    "    # mb_sn 컬럼이 있는지 확인\n",
    "    if 'mb_sn' in temp_df.columns:\n",
    "        # 💡 how='outer'로 변경하여 모든 데이터를 포함시킵니다.\n",
    "        base_df = pd.merge(base_df, temp_df, on='mb_sn', how='outer')\n",
    "        print(f\"  - 통합 후 크기: {base_df.shape}\")\n",
    "        successful_merges += 1\n",
    "    else:\n",
    "        print(f\"  [경고] {os.path.basename(file)}에 병합 키가 없어 건너뜁니다.\")\n",
    "        skipped_files += 1\n",
    "\n",
    "print(f\"\\n--- Outer 병합 완료 (중복 컬럼 존재 상태) ---\")\n",
    "print(f\"성공적으로 통합된 파일: {successful_merges}개\")\n",
    "print(f\"건너뛴 파일: {skipped_files}개\")\n",
    "print(f\"데이터 크기: {base_df.shape}\")\n"
   ]
  },
  {
   "cell_type": "markdown",
   "id": "0204f385",
   "metadata": {},
   "source": [
    "## 6. 중복 컬럼 정리\n",
    "\n",
    "병합 과정에서 생긴 _x, _y 컬럼들을 하나로 합칩니다.\n"
   ]
  },
  {
   "cell_type": "code",
   "execution_count": null,
   "id": "263f5bb9",
   "metadata": {},
   "outputs": [],
   "source": [
    "# 중복 컬럼 정리 (정보 보완)\n",
    "# 병합 과정에서 생긴 _x, _y 컬럼들을 하나로 합칩니다.\n",
    "# 예: '성별_x', '성별_y' -> '성별'\n",
    "common_cols_to_clean = ['성별', '나이', '지역', '구분', '설문일시']\n",
    "\n",
    "print(\"=== 중복 컬럼 정리 시작 ===\")\n",
    "for col in common_cols_to_clean:\n",
    "    col_x, col_y = f'{col}_x', f'{col}_y'\n",
    "    if col_x in base_df.columns and col_y in base_df.columns:\n",
    "        # _y 컬럼의 값으로 _x 컬럼의 빈칸(NaN)을 채운 뒤,\n",
    "        # 최종적으로 정리된 컬럼 하나만 남깁니다.\n",
    "        base_df[col] = base_df[col_y].fillna(base_df[col_x])\n",
    "        base_df.drop(columns=[col_x, col_y], inplace=True)\n",
    "        print(f\"  - {col} 컬럼 정리 완료\")\n",
    "\n",
    "print(\"--- 중복 컬럼 정리 완료 ---\")\n",
    "print(f\"정리 후 데이터 크기: {base_df.shape}\")\n"
   ]
  },
  {
   "cell_type": "markdown",
   "id": "0d4eb7c7",
   "metadata": {},
   "source": [
    "## 7. 최종 결과 확인\n",
    "\n",
    "통합 및 정리된 데이터의 정보를 확인합니다.\n"
   ]
  },
  {
   "cell_type": "code",
   "execution_count": null,
   "id": "ec93ed1f",
   "metadata": {},
   "outputs": [],
   "source": [
    "print(\"\\n🎉 최종 데이터 통합 및 정리 완료!\")\n",
    "print(\"=\" * 50)\n",
    "print(\"--- 통합 데이터 정보 ---\")\n",
    "base_df.info()\n",
    "\n",
    "print(\"\\n--- 통합 데이터 크기 ---\")\n",
    "print(f\"최종 데이터 크기: {base_df.shape[0]}개의 행, {base_df.shape[1]}개의 열\")\n",
    "\n",
    "print(\"\\n--- 통합 데이터 미리보기 ---\")\n",
    "display(base_df.head())\n"
   ]
  },
  {
   "cell_type": "markdown",
   "id": "1fc1057a",
   "metadata": {},
   "source": [
    "## 8. 데이터 저장 (선택사항)\n",
    "\n",
    "통합된 데이터를 CSV 파일로 저장할 수 있습니다.\n"
   ]
  },
  {
   "cell_type": "code",
   "execution_count": null,
   "id": "130f8fc3",
   "metadata": {},
   "outputs": [],
   "source": [
    "# 최종 결과물 저장\n",
    "output_path = '../data/processed/01_consolidated_data.csv'\n",
    "base_df.to_csv(output_path, index=False, encoding='utf-8-sig')\n",
    "print(f\"통합된 데이터가 '{output_path}' 경로에 저장되었습니다.\")\n",
    "print(f\"저장된 파일 크기: {base_df.shape}\")\n"
   ]
  }
 ],
 "metadata": {
  "kernelspec": {
   "display_name": "panel_search",
   "language": "python",
   "name": "python3"
  },
  "language_info": {
   "codemirror_mode": {
    "name": "ipython",
    "version": 3
   },
   "file_extension": ".py",
   "mimetype": "text/x-python",
   "name": "python",
   "nbconvert_exporter": "python",
   "pygments_lexer": "ipython3",
   "version": "3.11.13"
  }
 },
 "nbformat": 4,
 "nbformat_minor": 5
}
