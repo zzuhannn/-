{
 "cells": [
  {
   "cell_type": "markdown",
   "metadata": {},
   "source": [
    "# 📋 초기 설정 및 해독표 정리\n",
    "\n",
    "> **마스터 매핑 테이블을 분석하여 설문 요약본과 패널 정보 해독표를 생성하는 프로세스**\n",
    "\n",
    "---\n",
    "\n",
    "## 🎯 프로젝트 개요\n",
    "\n",
    "| 항목 | 내용 |\n",
    "|------|------|\n",
    "| **목적** | 마스터 매핑 테이블을 분석하여 구조화된 해독표 생성 |\n",
    "| **입력** | `../data/processed/00_master_mapping_table.csv` |\n",
    "| **출력** | 설문 요약본 + 패널 정보 해독표 |\n",
    "| **결과** | 분석에 필요한 구조화된 메타데이터 제공 |\n",
    "\n",
    "## 📋 처리 과정\n",
    "\n",
    "### 🔹 **설문 요약본 (Quickpoll Summary)**\n",
    "- **대상**: Quickpoll 파일에서 추출된 설문 정보\n",
    "- **내용**: 설문 제목, 참여자 수, 설문 기간 등\n",
    "- **출력**: `quickpoll_summary.csv`\n",
    "\n",
    "### 🔹 **패널 정보 해독표 (Panel Data Dictionary)**\n",
    "- **대상**: Welcome 파일에서 추출된 패널 정보\n",
    "- **내용**: 변수명, 설명, 타입, 코드-라벨 매핑\n",
    "- **출력**: `panel_data_dictionary.csv`\n",
    "\n",
    "---\n",
    "\n",
    "## 📁 노트북 구조\n",
    "\n",
    "1. **라이브러리 설정** - 필요한 패키지 import\n",
    "2. **마스터 매핑 테이블 로드** - 원본 데이터 불러오기\n",
    "3. **설문 요약본 생성** - Quickpoll 데이터 정리\n",
    "4. **패널 정보 해독표 생성** - Welcome 데이터 정리\n",
    "5. **결과 확인** - 생성된 파일들 검증"
   ]
  },
  {
   "cell_type": "markdown",
   "metadata": {},
   "source": [
    "## 📚 1. 라이브러리 설정\n",
    "\n",
    "데이터 처리에 필요한 라이브러리들을 import합니다."
   ]
  },
  {
   "cell_type": "code",
   "execution_count": null,
   "metadata": {},
   "outputs": [],
   "source": [
    "import pandas as pd\n",
    "import numpy as np\n",
    "import os\n",
    "import glob"
   ]
  },
  {
   "cell_type": "markdown",
   "metadata": {},
   "source": [
    "## 📁 2. 마스터 매핑 테이블 로드\n",
    "\n",
    "1단계에서 생성된 마스터 매핑 테이블을 불러옵니다."
   ]
  },
  {
   "cell_type": "code",
   "execution_count": null,
   "metadata": {},
   "outputs": [],
   "source": [
    "# 1. 원본 마스터 매핑 테이블 불러오기\n",
    "# 파일 경로를 사용자 환경에 맞게 확인해주세요.\n",
    "try:\n",
    "    master_df = pd.read_csv('../data/processed/00_master_mapping_table.csv', encoding='utf-8')\n",
    "    print(\"✅ UTF-8 인코딩으로 파일을 성공적으로 불러왔습니다.\")\n",
    "except UnicodeDecodeError:\n",
    "    master_df = pd.read_csv('../data/processed/00_master_mapping_table.csv', encoding='cp949')\n",
    "    print(\"✅ CP949 인코딩으로 파일을 성공적으로 불러왔습니다.\")\n",
    "\n",
    "print(f\"\\n📊 마스터 매핑 테이블 정보:\")\n",
    "print(f\"- 데이터 크기: {master_df.shape}\")\n",
    "print(f\"- 컬럼 수: {len(master_df.columns)}\")\n",
    "print(f\"- 출처 파일 수: {master_df['source_file'].nunique()}\")\n",
    "\n",
    "print(f\"\\n📋 컬럼 목록:\")\n",
    "for i, col in enumerate(master_df.columns, 1):\n",
    "    print(f\"{i:2d}. {col}\")\n",
    "\n",
    "print(f\"\\n📁 출처 파일별 데이터 수:\")\n",
    "print(master_df['source_file'].value_counts())"
   ]
  },
  {
   "cell_type": "markdown",
   "metadata": {},
   "source": [
    "## 📊 3. 설문 요약본 생성\n",
    "\n",
    "Quickpoll 파일에서 추출된 설문 정보를 정리하여 설문 요약본을 생성합니다."
   ]
  },
  {
   "cell_type": "code",
   "execution_count": null,
   "metadata": {},
   "outputs": [],
   "source": [
    "# 2. '설문 요약본 (Quickpoll Summary)' 추출 및 정리\n",
    "# 'source_file' 컬럼에 'qpoll'이 포함된 행만 필터링합니다.\n",
    "print(\"=== 설문 요약본 생성 시작 ===\")\n",
    "quickpoll_df = master_df[master_df['source_file'].str.contains('qpoll', na=False)].copy()\n",
    "print(f\"Quickpoll 관련 데이터 수: {len(quickpoll_df)}개\")\n",
    "\n",
    "# 불필요한 컬럼 및 중간에 반복되는 헤더 행 제거\n",
    "columns_to_drop = ['Unnamed: 12', 'Unnamed: 13', 'Unnamed: 14', 'Unnamed: 15', '변수명', '문항', '문항유형']\n",
    "existing_columns_to_drop = [col for col in columns_to_drop if col in quickpoll_df.columns]\n",
    "quickpoll_df = quickpoll_df.drop(columns=existing_columns_to_drop)\n",
    "\n",
    "# 빈 값과 중복 헤더 제거\n",
    "quickpoll_df = quickpoll_df.dropna(subset=['설문제목'])\n",
    "quickpoll_df = quickpoll_df[quickpoll_df['설문제목'] != '설문제목']\n",
    "\n",
    "print(f\"정리 후 데이터 수: {len(quickpoll_df)}개\")\n",
    "\n",
    "# 데이터 타입 정리 (숫자여야 하는 컬럼들을 숫자로 변경)\n",
    "count_cols = [col for col in quickpoll_df.columns if '_CNT' in col or '총참여자수' in col]\n",
    "print(f\"숫자 컬럼 변환: {count_cols}\")\n",
    "\n",
    "for col in count_cols:\n",
    "    if col in quickpoll_df.columns:\n",
    "        quickpoll_df[col] = pd.to_numeric(quickpoll_df[col], errors='coerce')\n",
    "        print(f\"  - {col}: 변환 완료\")\n",
    "\n",
    "# 결과 저장\n",
    "quickpoll_output_path = '../data/processed/quickpoll_summary.csv'\n",
    "quickpoll_df.to_csv(quickpoll_output_path, index=False, encoding='utf-8-sig')\n",
    "\n",
    "print(f\"\\n✅ 설문 요약본 저장 완료: {quickpoll_output_path}\")\n",
    "print(f\"📊 최종 데이터 크기: {quickpoll_df.shape}\")\n",
    "\n",
    "# 데이터 미리보기\n",
    "print(f\"\\n📋 설문 요약본 미리보기:\")\n",
    "display(quickpoll_df.head())"
   ]
  },
  {
   "cell_type": "markdown",
   "metadata": {},
   "source": [
    "## 👥 4. 패널 정보 해독표 생성\n",
    "\n",
    "Welcome 파일에서 추출된 패널 정보를 정리하여 패널 정보 해독표를 생성합니다."
   ]
  },
  {
   "cell_type": "code",
   "execution_count": null,
   "metadata": {},
   "outputs": [],
   "source": [
    "# 3. '패널 정보 해독표 (Panel Data Dictionary)' 추출 및 정리\n",
    "# 'source_file' 컬럼에 'Welcome'이 포함된 행만 필터링합니다.\n",
    "print(\"=== 패널 정보 해독표 생성 시작 ===\")\n",
    "panel_df = master_df[master_df['source_file'].str.contains('Welcome', na=False)].copy()\n",
    "print(f\"Welcome 관련 데이터 수: {len(panel_df)}개\")\n",
    "\n",
    "# 필요한 컬럼만 선택하고, 이름 변경\n",
    "required_columns = ['변수명', '문항', '문항유형', '보기1', '보기2']\n",
    "existing_columns = [col for col in required_columns if col in panel_df.columns]\n",
    "panel_df = panel_df[existing_columns]\n",
    "\n",
    "# 컬럼명 변경\n",
    "column_mapping = {\n",
    "    '변수명': 'variable',\n",
    "    '문항': 'description', \n",
    "    '문항유형': 'type',\n",
    "    '보기1': 'code',\n",
    "    '보기2': 'label'\n",
    "}\n",
    "panel_df = panel_df.rename(columns=column_mapping)\n",
    "\n",
    "print(f\"사용 가능한 컬럼: {list(panel_df.columns)}\")\n",
    "\n",
    "# 각 변수(variable)의 설명(description)과 타입(type)은 첫 행에만 있으므로, ffill()로 채워줍니다.\n",
    "if 'variable' in panel_df.columns:\n",
    "    panel_df['variable'] = panel_df['variable'].fillna(method='ffill')\n",
    "if 'description' in panel_df.columns:\n",
    "    panel_df['description'] = panel_df['description'].fillna(method='ffill')\n",
    "if 'type' in panel_df.columns:\n",
    "    panel_df['type'] = panel_df['type'].fillna(method='ffill')\n",
    "\n",
    "# 실제 코드-라벨 값이 있는 행만 남깁니다. (변수 설명이 적힌 행은 제외)\n",
    "if 'code' in panel_df.columns:\n",
    "    panel_df = panel_df.dropna(subset=['code'])\n",
    "\n",
    "print(f\"정리 후 데이터 수: {len(panel_df)}개\")\n",
    "\n",
    "# 결과 저장\n",
    "panel_dict_output_path = '../data/processed/panel_data_dictionary.csv'\n",
    "panel_df.to_csv(panel_dict_output_path, index=False, encoding='utf-8-sig')\n",
    "\n",
    "print(f\"\\n✅ 패널 정보 해독표 저장 완료: {panel_dict_output_path}\")\n",
    "print(f\"📊 최종 데이터 크기: {panel_df.shape}\")\n",
    "\n",
    "# 데이터 미리보기\n",
    "print(f\"\\n📋 패널 정보 해독표 미리보기:\")\n",
    "display(panel_df.head())"
   ]
  },
  {
   "cell_type": "markdown",
   "metadata": {},
   "source": [
    "## ✅ 5. 결과 확인\n",
    "\n",
    "생성된 파일들을 확인하고 최종 결과를 검증합니다."
   ]
  },
  {
   "cell_type": "code",
   "execution_count": null,
   "metadata": {},
   "outputs": [],
   "source": [
    "# 생성된 파일들 확인\n",
    "print(\"=== 생성된 파일 확인 ===\")\n",
    "\n",
    "# 설문 요약본 확인\n",
    "if os.path.exists('../data/processed/quickpoll_summary.csv'):\n",
    "    quickpoll_check = pd.read_csv('../data/processed/quickpoll_summary.csv')\n",
    "    print(f\"✅ 설문 요약본: {quickpoll_check.shape} (행, 열)\")\n",
    "    print(f\"   - 컬럼 수: {len(quickpoll_check.columns)}\")\n",
    "    print(f\"   - 파일 크기: {os.path.getsize('../data/processed/quickpoll_summary.csv')} bytes\")\n",
    "else:\n",
    "    print(\"❌ 설문 요약본 파일을 찾을 수 없습니다.\")\n",
    "\n",
    "# 패널 정보 해독표 확인\n",
    "if os.path.exists('../data/processed/panel_data_dictionary.csv'):\n",
    "    panel_check = pd.read_csv('../data/processed/panel_data_dictionary.csv')\n",
    "    print(f\"✅ 패널 정보 해독표: {panel_check.shape} (행, 열)\")\n",
    "    print(f\"   - 컬럼 수: {len(panel_check.columns)}\")\n",
    "    print(f\"   - 파일 크기: {os.path.getsize('../data/processed/panel_data_dictionary.csv')} bytes\")\n",
    "else:\n",
    "    print(\"❌ 패널 정보 해독표 파일을 찾을 수 없습니다.\")\n",
    "\n",
    "print(f\"\\n🎉 해독표 정리 완료!\")\n",
    "print(f\"📁 생성된 파일들:\")\n",
    "print(f\"   1. quickpoll_summary.csv - 설문 요약본\")\n",
    "print(f\"   2. panel_data_dictionary.csv - 패널 정보 해독표\")\n",
    "print(f\"\\n💡 이제 이 해독표들을 활용하여 데이터 분석을 진행할 수 있습니다!\")"
   ]
  }
 ],
 "metadata": {
  "kernelspec": {
   "display_name": "Python 3",
   "language": "python",
   "name": "python3"
  },
  "language_info": {
   "codemirror_mode": {
    "name": "ipython",
    "version": 3
   },
   "file_extension": ".py",
   "mimetype": "text/x-python",
   "name": "python",
   "nbconvert_exporter": "python",
   "pygments_lexer": "ipython3",
   "version": "3.8.5"
  }
 },
 "nbformat": 4,
 "nbformat_minor": 4
}
